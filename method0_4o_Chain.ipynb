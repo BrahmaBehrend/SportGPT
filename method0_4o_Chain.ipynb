{
 "cells": [
  {
   "cell_type": "markdown",
   "id": "6ebef7fd-cb0d-43d2-a8ae-ec0ac8d1ab1b",
   "metadata": {},
   "source": [
    "This notebook includes a simple hardcoded chain that generates a SQL-query from a natural language question, executes this SQL-query and then generates a natural language answer with the output of the SQL-query regarding the original natural language question."
   ]
  },
  {
   "cell_type": "markdown",
   "id": "7e66a05d-b9e1-44b8-b201-e4a35421ac2f",
   "metadata": {},
   "source": [
    "Install the required libraries:"
   ]
  },
  {
   "cell_type": "code",
   "execution_count": 1,
   "id": "e2628726-d220-4ec4-ac34-044559a906f0",
   "metadata": {
    "tags": []
   },
   "outputs": [
    {
     "name": "stdout",
     "output_type": "stream",
     "text": [
      "\u001b[33mWARNING: Skipping /opt/conda/lib/python3.11/site-packages/nlopt-2.7.1.dist-info due to invalid metadata entry 'name'\u001b[0m\u001b[33m\n",
      "\u001b[0m\u001b[33mWARNING: Skipping /opt/conda/lib/python3.11/site-packages/nlopt-2.7.1.dist-info due to invalid metadata entry 'name'\u001b[0m\u001b[33m\n",
      "\u001b[0mNote: you may need to restart the kernel to use updated packages.\n"
     ]
    }
   ],
   "source": [
    "pip install --upgrade --quiet  langchain langchain-community langchain-openai"
   ]
  },
  {
   "cell_type": "markdown",
   "id": "b853d1e6-7d77-4343-99ea-da9e5bc220b5",
   "metadata": {},
   "source": [
    "Import the necessary modules:"
   ]
  },
  {
   "cell_type": "code",
   "execution_count": 2,
   "id": "0c842a12-7a32-40a1-afa5-c6d6adc155a3",
   "metadata": {
    "tags": []
   },
   "outputs": [],
   "source": [
    "from langchain_community.utilities import SQLDatabase\n",
    "from langchain_community.tools.sql_database.tool import QuerySQLDataBaseTool\n",
    "\n",
    "from langchain.chains import create_sql_query_chain\n",
    "\n",
    "from langchain_openai import ChatOpenAI\n",
    "\n",
    "from operator import itemgetter\n",
    "\n",
    "from langchain_core.output_parsers import StrOutputParser\n",
    "from langchain_core.prompts import PromptTemplate\n",
    "from langchain_core.runnables import RunnablePassthrough"
   ]
  },
  {
   "cell_type": "markdown",
   "id": "8fb58666-9616-45ce-a428-31d13e8f0cec",
   "metadata": {},
   "source": [
    "Fill in your OpenAI API key in the cell below to make sure your key is used as the environment variable."
   ]
  },
  {
   "cell_type": "code",
   "execution_count": 3,
   "id": "be94234d-4def-49a7-95b7-dd20ef1f224f",
   "metadata": {
    "tags": []
   },
   "outputs": [
    {
     "name": "stdout",
     "output_type": "stream",
     "text": [
      "env: OPENAI_API_KEY=sk-proj-VYdLJEqGVWXF0GpsHCCqT3BlbkFJTn4vCvSeAUqQrCtyBh6v\n"
     ]
    }
   ],
   "source": [
    "#for gpt-4o:\n",
    "%env OPENAI_API_KEY="
   ]
  },
  {
   "cell_type": "markdown",
   "id": "43ee970f-1da7-4087-945c-aaa4eb6c8e6e",
   "metadata": {},
   "source": [
    "In the cell below, it is shown if it is possible to interact with the wijkpaspoort.sqlite3 database, using the SQLAlchemy-driven SQLDatabase class from the langchain-community library. An open source library that contains third-party integrations that implement the base interfaces defined in LangChain Core, making them ready-to-use in any LangChain application."
   ]
  },
  {
   "cell_type": "code",
   "execution_count": 4,
   "id": "4114eff4-a3b0-423c-8e51-8aab833c1326",
   "metadata": {
    "tags": []
   },
   "outputs": [
    {
     "name": "stdout",
     "output_type": "stream",
     "text": [
      "sqlite\n",
      "['addresses', 'associated_fat', 'associated_liquid', 'clients', 'cluster_results', 'consumption_day', 'consumption_recipe', 'consumption_sup_nut', 'districts', 'household_income', 'measurements', 'municipalities', 'neighborhoods', 'participants', 'peoples_income', 'provinces', 'schools', 'sports_facilities', 'user_client', 'users']\n",
      "\n"
     ]
    },
    {
     "data": {
      "text/plain": [
       "\"[(1, '9711LX', 51, '00140000', '001400', '0014'), (2, '9712AA', 1, '00140000', '001400', '0014'), (3, '9712AA', 3, '00140000', '001400', '0014'), (4, '9712AA', 5, '00140000', '001400', '0014'), (5, '9712AA', 7, '00140000', '001400', '0014'), (6, '9712AA', 9, '00140000', '001400', '0014'), (7, '9712AA', 11, '00140000', '001400', '0014'), (8, '9712AA', 13, '00140000', '001400', '0014'), (9, '9712AA', 15, '00140000', '001400', '0014'), (10, '9712AA', 17, '00140000', '001400', '0014')]\""
      ]
     },
     "execution_count": 4,
     "metadata": {},
     "output_type": "execute_result"
    }
   ],
   "source": [
    "db = SQLDatabase.from_uri(\"sqlite:///wijkpaspoort.sqlite3\")\n",
    "print(db.dialect)\n",
    "print(db.get_usable_table_names())\n",
    "print() #print db.get_table_info will print all the tables, their columns \n",
    "    #and three example rows. This table_info will later be used to create \n",
    "    #the prompt that is given to the llm.\n",
    "db.run(\"SELECT * FROM addresses LIMIT 10;\")"
   ]
  },
  {
   "cell_type": "markdown",
   "id": "e7203279-9677-429b-85de-ff972649edbb",
   "metadata": {},
   "source": [
    "In the cell below, a prompt is constructed that will be given to the LLM to come up with the right response."
   ]
  },
  {
   "cell_type": "code",
   "execution_count": 5,
   "id": "d2004165-304a-4b36-bf4a-0f07b77c3561",
   "metadata": {
    "tags": []
   },
   "outputs": [],
   "source": [
    "from langchain_core.prompts import PromptTemplate\n",
    "\n",
    "template = '''Given an input question create a syntactically correct sqlite query to run, then look at the results of the query and return the answer.\n",
    "Unless the user specifies a specific number of examples they wish to obtain, always limit your query to at most {top_k} results.\n",
    "When there are less than {top_k} examples available in the database, limit the results to the number of examples that are available in the database.\n",
    "You can order the results by a relevant column to return the most interesting examples in the database.\n",
    "Only use the given tools. Only use the information returned by the tools to construct your final answer.\n",
    "Make sure the SQL-query starts with 'SELECT' and does not start with something like: ' ```sql '.\n",
    "Delete preceding backticks (```) and the 'sql' keyword when constructing a query.\n",
    "Also make sure the SQL-query ends with a semicolon.\n",
    "If you get an error while executing a query, rewrite the query and try again.\n",
    "\n",
    "DO NOT make any DML statements (INSERT, UPDATE, DELETE, DROP etc.) to the database.\n",
    "\n",
    "If the question does not seem related to the database, just return \"I don't know\" as the final answer.\n",
    "\n",
    "Only use the following tables:\n",
    "\n",
    "{table_info}.\n",
    "\n",
    "Question: {input}'''\n",
    "prompt = PromptTemplate.from_template(template)"
   ]
  },
  {
   "cell_type": "markdown",
   "id": "a8f0bb8c-9217-4ec8-a400-bc55a45094b4",
   "metadata": {},
   "source": [
    "In the cell below, the user input (natural language question) is taken and converted to a SQL query. LangChain comes with a built-in chain for this: create_sql_query_chain and it asks for four arguments: the LLM of choice, the database of choice, the prompt that is designed above and the (k) number of results that need to be included in the output."
   ]
  },
  {
   "cell_type": "code",
   "execution_count": 6,
   "id": "fd2bb9de-8aec-41d8-ba38-b8a13002b597",
   "metadata": {
    "tags": []
   },
   "outputs": [
    {
     "data": {
      "text/plain": [
       "'SELECT COUNT(*) FROM addresses;'"
      ]
     },
     "execution_count": 6,
     "metadata": {},
     "output_type": "execute_result"
    }
   ],
   "source": [
    "llm = ChatOpenAI(model=\"gpt-4o\", temperature=0)\n",
    "chain = create_sql_query_chain(llm, db, prompt=prompt, k=10)\n",
    "response = chain.invoke({\"question\": \"How many addresses are there?\"})\n",
    "response"
   ]
  },
  {
   "cell_type": "markdown",
   "id": "93289712-d7f5-469a-a1e3-9b1a40830a89",
   "metadata": {},
   "source": [
    "It is possible to run this SQL-query in the database:"
   ]
  },
  {
   "cell_type": "code",
   "execution_count": 7,
   "id": "afa87c3e-5eba-44db-af7f-22e2d1197eec",
   "metadata": {
    "tags": []
   },
   "outputs": [
    {
     "data": {
      "text/plain": [
       "'[(7888477,)]'"
      ]
     },
     "execution_count": 7,
     "metadata": {},
     "output_type": "execute_result"
    }
   ],
   "source": [
    "db.run(response)"
   ]
  },
  {
   "cell_type": "markdown",
   "id": "8015417b-3003-429f-bc68-06402bbcd7f0",
   "metadata": {},
   "source": [
    "In the cell below, the third-party integration: QuerySQLDataBaseTool is used to easily add query execution to the chain. The only argument that it requires is the database that we already set up before."
   ]
  },
  {
   "cell_type": "code",
   "execution_count": 8,
   "id": "934495f4-2f1c-439c-a295-d51929bc7423",
   "metadata": {
    "tags": []
   },
   "outputs": [
    {
     "data": {
      "text/plain": [
       "'[(7888477,)]'"
      ]
     },
     "execution_count": 8,
     "metadata": {},
     "output_type": "execute_result"
    }
   ],
   "source": [
    "execute_query = QuerySQLDataBaseTool(db=db)\n",
    "write_query = create_sql_query_chain(llm, db, prompt=prompt, k=10)\n",
    "chain = write_query | execute_query\n",
    "chain.invoke({\"question\": \"How many addresses are there?\"})"
   ]
  },
  {
   "cell_type": "markdown",
   "id": "c4547d27-ae5a-42b4-8eb8-2020745e7c4e",
   "metadata": {},
   "source": [
    "In the cell below, the natural language question and the SQL-output are passed to the LLM once more, in order to generate a natural language answer."
   ]
  },
  {
   "cell_type": "code",
   "execution_count": 9,
   "id": "163b6963-c652-423e-8dcc-ad9a61cfe5d7",
   "metadata": {
    "tags": []
   },
   "outputs": [
    {
     "data": {
      "text/plain": [
       "\"The error in the SQL query is due to the inclusion of the backticks (```sql) which are not valid SQL syntax. These backticks are typically used in markdown to format code blocks, but they should not be included in the actual SQL query.\\n\\nHere is the corrected SQL query:\\n\\n```sql\\nSELECT * \\nFROM measurements \\nWHERE municipality_code = (SELECT municipality_code FROM municipalities WHERE municipality_name = 'Amsterdam') \\nLIMIT 10;\\n```\\n\\nThis query will list all measurements for the municipality of 'Amsterdam', but only the first 10 results due to the `LIMIT 10` clause. If you want to retrieve all measurements without limiting the results, you can remove the `LIMIT 10` clause:\\n\\n```sql\\nSELECT * \\nFROM measurements \\nWHERE municipality_code = (SELECT municipality_code FROM municipalities WHERE municipality_name = 'Amsterdam');\\n```\\n\\nPlease run the corrected query to get the desired results.\""
      ]
     },
     "execution_count": 9,
     "metadata": {},
     "output_type": "execute_result"
    }
   ],
   "source": [
    "answer_prompt = PromptTemplate.from_template(\n",
    "    \"\"\"Given the following user question, corresponding SQL query, and SQL result, answer the user question.\n",
    "\n",
    "Question: {question}\n",
    "SQL Query: {query}\n",
    "SQL Result: {result}\n",
    "Answer: \"\"\"\n",
    ")\n",
    "\n",
    "#This chain fills in the above answer_prompt --> pass it to the LLM --> convert the output of the LLM into a string.\n",
    "answer = answer_prompt | llm | StrOutputParser()\n",
    "\n",
    "#The chain has the format of: (create_SQL_query and save the SQL-query part --> pass the SQL-query to the QuerySQLDataBaseTool, which will execute the SQL-query) --> pass the output of the QuerySQLDataBaseTool to the chain above.\n",
    "chain = (RunnablePassthrough.assign(query=write_query).assign(result=itemgetter(\"query\") | execute_query) | answer)\n",
    "\n",
    "chain.invoke({\"question\": \"List all measurements for the municipality of 'Amsterdam'\"})\n"
   ]
  },
  {
   "cell_type": "code",
   "execution_count": 10,
   "id": "8a2088ce-0658-4c6b-8e86-a8821be7a66b",
   "metadata": {},
   "outputs": [],
   "source": [
    "questions = [\n",
    "    {\"question\": \"How many addresses are in the database?\"},\n",
    "    {\"question\": \"How many school are there?\"},\n",
    "    {\"question\": \"List all measurements for the municipality of ‘’s-Hertogenbosch’\"},\n",
    "    {\"question\": \"How many indor services are there for korfball?\"},\n",
    "    {\"question\": \"How many measurements are there in the municipality of Staphorst where the percentage of people with excellent to very good health is above 60%?\"},\n",
    "    {\"question\": \"How many measurements are there for the Vondelburt district where more than 1 out of 10 people is a heavy drinker%?\"},\n",
    "    {\"question\": \"Can you show me the top 10 municipalities by their average percentage of weekly sporters?\"},\n",
    "    {\"question\": \"List the top 10 districts by overwait and also list their respective values?\"},\n",
    "    {\"question\": \"Can you find the top 10 municipalities with the highest median standardised income for me? Also show me how many people in that municipality have overweight and how many have a high risk of anxiety or depression.\"},\n",
    "    {\"question\": \"Give me the top 20 neighbourhoods in the Netherlands based on the amount of people who had very high stress in the past 4 weeks and have more than 20 percent of heavy drinkers. Also show me in which municipalities these neighborhoods are located.\"},\n",
    "    {\"question\": \"Can you show me the municipalities with an average disposable income between 100 and 120 and also show me the respective percentage of weekly sporters in that municipality?\"},\n",
    "    {\"question\": \"Make a list with the top 10 neighborhoods and their municipalities with, on average, the highest percentage of weekly sporters but where the average standardized income of the corresponding municipality is below 15.\"},\n",
    "]\n",
    "    "
   ]
  },
  {
   "cell_type": "code",
   "execution_count": 12,
   "id": "0ed4872b-4a97-4316-b210-1ad9588fe3bd",
   "metadata": {
    "tags": []
   },
   "outputs": [
    {
     "name": "stdout",
     "output_type": "stream",
     "text": [
      "Question 1 : {'question': 'How many addresses are in the database?'}\n",
      "Query :  SELECT COUNT(*) FROM addresses;\n",
      "Answer :  There are 7,888,477 addresses in the database.\n",
      "\n",
      "Question 2 : {'question': 'How many school are there?'}\n",
      "Query :  SELECT COUNT(*) FROM schools;\n",
      "Answer :  There are 6,166 schools.\n",
      "\n",
      "Question 3 : {'question': 'List all measurements for the municipality of ‘’s-Hertogenbosch’'}\n",
      "Query :  ```sql\n",
      "SELECT * \n",
      "FROM measurements \n",
      "WHERE municipality_code = (\n",
      "    SELECT municipality_code \n",
      "    FROM municipalities \n",
      "    WHERE municipality_name = '’s-Hertogenbosch'\n",
      ")\n",
      "LIMIT 10;\n",
      "```\n",
      "Answer :  To answer the user question \"List all measurements for the municipality of '’s-Hertogenbosch’\", we need to interpret the SQL query and the result.\n",
      "\n",
      "The SQL query is designed to fetch all measurements for the municipality of '’s-Hertogenbosch’. It does this by first finding the municipality code for '’s-Hertogenbosch’ from the `municipalities` table and then using that code to fetch the corresponding measurements from the `measurements` table. The query limits the results to the first 10 entries.\n",
      "\n",
      "However, the SQL result is not provided in your message. Without the actual data from the SQL result, I cannot list the specific measurements. \n",
      "\n",
      "If you can provide the SQL result, I can help you interpret and list the measurements. If the result is empty, it means there are no measurements recorded for '’s-Hertogenbosch’ in the database.\n",
      "\n",
      "Question 4 : {'question': 'How many indor services are there for korfball?'}\n",
      "Query :  SELECT SUM(total_indoor_services) AS total_indoor_services\n",
      "FROM sports_facilities\n",
      "WHERE sport = 'korfball';\n",
      "Answer :  There are no indoor services for korfball.\n",
      "\n",
      "Question 5 : {'question': 'How many measurements are there in the municipality of Staphorst where the percentage of people with excellent to very good health is above 60%?'}\n",
      "Query :  ```sql\n",
      "SELECT COUNT(*) \n",
      "FROM measurements \n",
      "JOIN municipalities ON measurements.municipality_code = municipalities.municipality_code \n",
      "WHERE municipalities.municipality_name = 'Staphorst' \n",
      "AND measurements.excellent_very_good_health > 60;\n",
      "```\n",
      "Answer :  There are 6 measurements in the municipality of Staphorst where the percentage of people with excellent to very good health is above 60%.\n",
      "\n",
      "Question 6 : {'question': 'How many measurements are there for the Vondelburt district where more than 1 out of 10 people is a heavy drinker%?'}\n",
      "Query :  SELECT COUNT(*) \n",
      "FROM measurements \n",
      "WHERE district_code = 'Vondelburt' \n",
      "AND heavy_drinker > 10.0;\n",
      "Answer :  There are no measurements for the Vondelburt district where more than 1 out of 10 people is a heavy drinker.\n",
      "\n",
      "Question 7 : {'question': 'Can you show me the top 10 municipalities by their average percentage of weekly sporters?'}\n",
      "Query :  SELECT municipality_name, AVG(weekly_sporters) AS avg_weekly_sporters\n",
      "FROM cluster_results\n",
      "GROUP BY municipality_name\n",
      "ORDER BY avg_weekly_sporters DESC\n",
      "LIMIT 10;\n",
      "Answer :  It appears that the SQL query returned a result where the municipality name is `None` with an average percentage of weekly sporters being approximately 46.61%. This suggests that there might be an issue with the data in the `cluster_results` table, such as missing or null values for the `municipality_name` field.\n",
      "\n",
      "Given this result, I cannot provide the top 10 municipalities by their average percentage of weekly sporters because the data seems to be incomplete or incorrect. You may need to check the data for missing municipality names or ensure that the data is correctly populated before running the query again.\n",
      "\n",
      "Question 8 : {'question': 'List the top 10 districts by overwait and also list their respective values?'}\n",
      "Query :  SELECT district_name, overweight\n",
      "FROM cluster_results\n",
      "ORDER BY overweight DESC\n",
      "LIMIT 10;\n",
      "Answer :  The SQL result indicates that the top 10 districts by overweight values are all listed as `None` for the district names, with the overweight values being 100.0 for the first five entries and 92.9 for the next five entries. This suggests that there might be an issue with the data in the `district_name` column, as it is returning `None` for all entries.\n",
      "\n",
      "Here is the answer based on the provided result:\n",
      "\n",
      "The top 10 districts by overweight values are:\n",
      "1. District: None, Overweight: 100.0\n",
      "2. District: None, Overweight: 100.0\n",
      "3. District: None, Overweight: 100.0\n",
      "4. District: None, Overweight: 100.0\n",
      "5. District: None, Overweight: 100.0\n",
      "6. District: None, Overweight: 92.9\n",
      "7. District: None, Overweight: 92.9\n",
      "8. District: None, Overweight: 92.9\n",
      "9. District: None, Overweight: 92.9\n",
      "10. District: None, Overweight: 92.9\n",
      "\n",
      "It appears that the district names are missing or not properly recorded in the database.\n",
      "\n",
      "Question 9 : {'question': 'Can you find the top 10 municipalities with the highest median standardised income for me? Also show me how many people in that municipality have overweight and how many have a high risk of anxiety or depression.'}\n",
      "Query :  SELECT \n",
      "    hi.municipality_code, \n",
      "    m.municipality_name, \n",
      "    hi.median_standerdized_income, \n",
      "    SUM(cr.overweight) AS total_overweight, \n",
      "    SUM(cr.high_risk_of_anxiety_or_depression) AS total_high_risk_anxiety_depression\n",
      "FROM \n",
      "    household_income hi\n",
      "JOIN \n",
      "    municipalities m ON hi.municipality_code = m.municipality_code\n",
      "LEFT JOIN \n",
      "    cluster_results cr ON hi.municipality_code = cr.municipality_code\n",
      "GROUP BY \n",
      "    hi.municipality_code, m.municipality_name, hi.median_standerdized_income\n",
      "ORDER BY \n",
      "    hi.median_standerdized_income DESC\n",
      "LIMIT 10;\n",
      "Answer :  Based on the SQL query and the result, here are the top 10 municipalities with the highest median standardized income, along with the number of people in each municipality who are overweight and those who have a high risk of anxiety or depression:\n",
      "\n",
      "1. **Municipality A**\n",
      "   - Median Standardized Income: $X\n",
      "   - Overweight: Y people\n",
      "   - High Risk of Anxiety or Depression: Z people\n",
      "\n",
      "2. **Municipality B**\n",
      "   - Median Standardized Income: $X\n",
      "   - Overweight: Y people\n",
      "   - High Risk of Anxiety or Depression: Z people\n",
      "\n",
      "3. **Municipality C**\n",
      "   - Median Standardized Income: $X\n",
      "   - Overweight: Y people\n",
      "   - High Risk of Anxiety or Depression: Z people\n",
      "\n",
      "4. **Municipality D**\n",
      "   - Median Standardized Income: $X\n",
      "   - Overweight: Y people\n",
      "   - High Risk of Anxiety or Depression: Z people\n",
      "\n",
      "5. **Municipality E**\n",
      "   - Median Standardized Income: $X\n",
      "   - Overweight: Y people\n",
      "   - High Risk of Anxiety or Depression: Z people\n",
      "\n",
      "6. **Municipality F**\n",
      "   - Median Standardized Income: $X\n",
      "   - Overweight: Y people\n",
      "   - High Risk of Anxiety or Depression: Z people\n",
      "\n",
      "7. **Municipality G**\n",
      "   - Median Standardized Income: $X\n",
      "   - Overweight: Y people\n",
      "   - High Risk of Anxiety or Depression: Z people\n",
      "\n",
      "8. **Municipality H**\n",
      "   - Median Standardized Income: $X\n",
      "   - Overweight: Y people\n",
      "   - High Risk of Anxiety or Depression: Z people\n",
      "\n",
      "9. **Municipality I**\n",
      "   - Median Standardized Income: $X\n",
      "   - Overweight: Y people\n",
      "   - High Risk of Anxiety or Depression: Z people\n",
      "\n",
      "10. **Municipality J**\n",
      "    - Median Standardized Income: $X\n",
      "    - Overweight: Y people\n",
      "    - High Risk of Anxiety or Depression: Z people\n",
      "\n",
      "(Note: Replace the placeholders $X, Y, and Z with the actual values from the SQL result.)\n",
      "\n",
      "Question 10 : {'question': 'Give me the top 20 neighbourhoods in the Netherlands based on the amount of people who had very high stress in the past 4 weeks and have more than 20 percent of heavy drinkers. Also show me in which municipalities these neighborhoods are located.'}\n",
      "Query :  ```sql\n",
      "SELECT \n",
      "    cr.neighborhood_name, \n",
      "    cr.municipality_name, \n",
      "    cr.very_high_stress_in_past_4_weeks, \n",
      "    cr.heavy_drinker\n",
      "FROM \n",
      "    cluster_results cr\n",
      "WHERE \n",
      "    cr.heavy_drinker > 20\n",
      "ORDER BY \n",
      "    cr.very_high_stress_in_past_4_weeks DESC\n",
      "LIMIT 20;\n",
      "```\n",
      "Answer :  It appears that the SQL query provided contains syntax errors due to the inclusion of the triple backticks (```sql) which are not valid SQL syntax. These backticks are typically used in markdown to format code blocks, but they should not be included in the actual SQL query.\n",
      "\n",
      "Here is the corrected SQL query without the backticks:\n",
      "\n",
      "```sql\n",
      "SELECT \n",
      "    n.neighborhood_name, \n",
      "    m.municipality_name, \n",
      "    cr.very_high_stress_in_past_4_weeks, \n",
      "    cr.heavy_drinker\n",
      "FROM \n",
      "    cluster_results cr\n",
      "JOIN \n",
      "    neighborhoods n ON cr.neighborhood_code = n.neighborhood_code\n",
      "JOIN \n",
      "    municipalities m ON n.municipality_code = m.municipality_code\n",
      "WHERE \n",
      "    cr.heavy_drinker > 20\n",
      "ORDER BY \n",
      "    cr.very_high_stress_in_past_4_weeks DESC\n",
      "LIMIT 20;\n",
      "```\n",
      "\n",
      "You can run this corrected query to get the top 20 neighborhoods in the Netherlands based on the amount of people who had very high stress in the past 4 weeks and have more than 20 percent of heavy drinkers, along with the municipalities they are located in.\n",
      "\n",
      "Question 11 : {'question': 'Can you show me the municipalities with an average disposable income between 100 and 120 and also show me the respective percentage of weekly sporters in that municipality?'}\n",
      "Query :  SELECT \n",
      "    h.municipality_code, \n",
      "    m.municipality_name, \n",
      "    h.average_disposable_income, \n",
      "    c.weekly_sporters\n",
      "FROM \n",
      "    household_income h\n",
      "JOIN \n",
      "    municipalities m ON h.municipality_code = m.municipality_code\n",
      "JOIN \n",
      "    cluster_results c ON h.municipality_code = c.municipality_code\n",
      "WHERE \n",
      "    h.average_disposable_income BETWEEN 100 AND 120\n",
      "LIMIT 10;\n",
      "Answer :  Based on the SQL query and the result, here are the municipalities with an average disposable income between 100 and 120, along with the respective percentage of weekly sporters in those municipalities:\n",
      "\n",
      "| Municipality Code | Municipality Name | Average Disposable Income | Percentage of Weekly Sporters |\n",
      "|-------------------|-------------------|---------------------------|------------------------------|\n",
      "| 001               | Municipality A    | 110                       | 45%                          |\n",
      "| 002               | Municipality B    | 115                       | 50%                          |\n",
      "| 003               | Municipality C    | 105                       | 40%                          |\n",
      "| 004               | Municipality D    | 120                       | 55%                          |\n",
      "| 005               | Municipality E    | 100                       | 35%                          |\n",
      "\n",
      "(Note: The actual data in the SQL result is not provided, so the above table is a hypothetical example based on the structure of the query and the expected result format. Please replace the example data with the actual SQL result data.)\n",
      "\n",
      "Question 12 : {'question': 'Make a list with the top 10 neighborhoods and their municipalities with, on average, the highest percentage of weekly sporters but where the average standardized income of the corresponding municipality is below 15.'}\n",
      "Query :  ```sql\n",
      "SELECT \n",
      "    cr.neighborhood_name, \n",
      "    cr.municipality_name, \n",
      "    cr.weekly_sporters\n",
      "FROM \n",
      "    cluster_results cr\n",
      "JOIN \n",
      "    household_income hi ON cr.municipality_code = hi.municipality_code\n",
      "WHERE \n",
      "    hi.average_standerdized_income < 15\n",
      "ORDER BY \n",
      "    cr.weekly_sporters DESC\n",
      "LIMIT 10;\n",
      "```\n",
      "Answer :  The error in the SQL query is due to the inclusion of the triple backticks (```sql) which are not valid SQL syntax. These backticks are typically used in markdown to format code blocks, but they should not be included in the actual SQL query.\n",
      "\n",
      "Here is the corrected SQL query without the backticks:\n",
      "\n",
      "```sql\n",
      "SELECT \n",
      "    cr.neighborhood_name, \n",
      "    cr.municipality_name, \n",
      "    cr.weekly_sporters\n",
      "FROM \n",
      "    cluster_results cr\n",
      "JOIN \n",
      "    household_income hi ON cr.municipality_code = hi.municipality_code\n",
      "WHERE \n",
      "    hi.average_standerdized_income < 15\n",
      "ORDER BY \n",
      "    cr.weekly_sporters DESC\n",
      "LIMIT 10;\n",
      "```\n",
      "\n",
      "To answer the user question, you need to execute the corrected SQL query in your database environment. The result will be a list of the top 10 neighborhoods and their municipalities with the highest average percentage of weekly sporters, where the average standardized income of the corresponding municipality is below 15.\n",
      "\n"
     ]
    }
   ],
   "source": [
    "for i, question in enumerate(questions):\n",
    "    try:\n",
    "        ans = chain.invoke(question)\n",
    "        query = write_query.invoke(question)\n",
    "        print(\"Question {} : {}\".format(i+1, question))\n",
    "        print(\"Query : \", query)\n",
    "        print(\"Answer : \", ans)\n",
    "        print()\n",
    "    except Exception as e:\n",
    "        print(\"Question {} : {}\".format(i+1, question))\n",
    "        print(\"Error : \", e)\n",
    "        print()"
   ]
  },
  {
   "cell_type": "code",
   "execution_count": null,
   "id": "383e0be9-dd48-4634-b92c-088ea55f4cc2",
   "metadata": {},
   "outputs": [],
   "source": []
  }
 ],
 "metadata": {
  "kernelspec": {
   "display_name": "Python 3 (ipykernel)",
   "language": "python",
   "name": "python3"
  },
  "language_info": {
   "codemirror_mode": {
    "name": "ipython",
    "version": 3
   },
   "file_extension": ".py",
   "mimetype": "text/x-python",
   "name": "python",
   "nbconvert_exporter": "python",
   "pygments_lexer": "ipython3",
   "version": "3.11.8"
  }
 },
 "nbformat": 4,
 "nbformat_minor": 5
}
